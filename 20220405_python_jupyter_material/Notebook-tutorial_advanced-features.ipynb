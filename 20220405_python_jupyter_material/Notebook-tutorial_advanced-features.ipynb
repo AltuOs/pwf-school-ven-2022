{
 "cells": [
  {
   "cell_type": "markdown",
   "id": "89163a78",
   "metadata": {},
   "source": [
    "<h1><center> <font size=\"28\"> Jupyter advaced features </font> </center></h1>\n",
    "\n",
    "# Or useful functionalities to present results"
   ]
  },
  {
   "cell_type": "markdown",
   "id": "7ec9581d",
   "metadata": {},
   "source": [
    "### IPython widgets"
   ]
  },
  {
   "cell_type": "code",
   "execution_count": null,
   "id": "336603d5",
   "metadata": {},
   "outputs": [],
   "source": [
    "import ipywidgets as widgets\n",
    "from IPython.display import display, clear_output"
   ]
  },
  {
   "cell_type": "code",
   "execution_count": null,
   "id": "dcea8ec1",
   "metadata": {},
   "outputs": [],
   "source": [
    "widgets.IntSlider(\n",
    "    min=-6,\n",
    "    max=19,\n",
    "    step=1,\n",
    "    description='Slider:',\n",
    "    value=9\n",
    ")"
   ]
  },
  {
   "cell_type": "code",
   "execution_count": null,
   "id": "d84400cd",
   "metadata": {},
   "outputs": [],
   "source": [
    "widgets.FloatSlider(\n",
    "    value=5.5,\n",
    "    min=0,\n",
    "    max=100.0,\n",
    "    step=0.1,\n",
    "    description='Test:',\n",
    "    disabled=False,\n",
    "    continuous_update=False,\n",
    "    orientation='horizontal',\n",
    "    readout=True,\n",
    "    readout_format='.1f',\n",
    ")"
   ]
  },
  {
   "cell_type": "code",
   "execution_count": null,
   "id": "93bbf9ef",
   "metadata": {},
   "outputs": [],
   "source": [
    "widgets.BoundedFloatText(\n",
    "    value=7.5,\n",
    "    min=0,\n",
    "    max=10.0,\n",
    "    step=0.1,\n",
    "    description='Text:',\n",
    "    disabled=False\n",
    ")"
   ]
  },
  {
   "cell_type": "code",
   "execution_count": null,
   "id": "b9e56955",
   "metadata": {},
   "outputs": [],
   "source": [
    "widgets.Checkbox(\n",
    "    value=False,\n",
    "    description='Check the button !',\n",
    "    disabled=False,\n",
    "    indent=False\n",
    ")"
   ]
  },
  {
   "cell_type": "code",
   "execution_count": null,
   "id": "ea0e3715",
   "metadata": {},
   "outputs": [],
   "source": [
    "widgets.ToggleButton(\n",
    "    value=False,\n",
    "    description='Click here !',\n",
    "    disabled=False,\n",
    "    button_style='success', # 'success', 'info', 'warning', 'danger' or ''\n",
    "    tooltip='Description',\n",
    "    icon='check' \n",
    ")"
   ]
  },
  {
   "cell_type": "code",
   "execution_count": null,
   "id": "3e57489d",
   "metadata": {},
   "outputs": [],
   "source": [
    "widgets.Dropdown(\n",
    "    options=['1', '2', '3', '4', '5'],\n",
    "    value='5',\n",
    "    description='Number:',\n",
    "    disabled=False,\n",
    ")"
   ]
  },
  {
   "cell_type": "markdown",
   "id": "3f9d104a",
   "metadata": {},
   "source": [
    "ipywidgets list: https://ipywidgets.readthedocs.io/en/latest/examples/Widget%20List.html"
   ]
  },
  {
   "cell_type": "markdown",
   "id": "c3be0dd2",
   "metadata": {},
   "source": [
    "#### Linking 2 or more widgets"
   ]
  },
  {
   "cell_type": "code",
   "execution_count": null,
   "id": "bfaf23a8",
   "metadata": {},
   "outputs": [],
   "source": [
    "slider = widgets.IntSlider()\n",
    "text = widgets.IntText()\n",
    "display(slider, text)\n",
    "widgets.jslink((slider, 'value'), (text, 'value'))"
   ]
  },
  {
   "cell_type": "code",
   "execution_count": null,
   "id": "0b3a698a",
   "metadata": {},
   "outputs": [],
   "source": [
    "btn = widgets.Button(description='Click here')\n",
    "display(btn)\n",
    "def btn_eventhandler(obj):\n",
    "    print('La escuela de Física PWF-ICPT 2022 es genial!'.format(obj.description))\n",
    "btn.on_click(btn_eventhandler)"
   ]
  },
  {
   "cell_type": "markdown",
   "id": "fb540173",
   "metadata": {},
   "source": [
    "### Exploratory example with a small dataset"
   ]
  },
  {
   "cell_type": "code",
   "execution_count": null,
   "id": "cc1b98cd",
   "metadata": {},
   "outputs": [],
   "source": [
    "from sklearn.datasets import load_iris"
   ]
  },
  {
   "cell_type": "code",
   "execution_count": null,
   "id": "0be34795",
   "metadata": {},
   "outputs": [],
   "source": [
    "# Load the dataset\n",
    "iris = load_iris(as_frame=True)\n",
    "\n",
    "# Create a dataframe\n",
    "df = iris['data'].join(iris['target'])\n",
    "df['target'].replace(dict(enumerate(iris['target_names'])), \n",
    "                     inplace=True)"
   ]
  },
  {
   "cell_type": "code",
   "execution_count": null,
   "id": "a49d6f79",
   "metadata": {},
   "outputs": [],
   "source": [
    "df"
   ]
  },
  {
   "cell_type": "code",
   "execution_count": null,
   "id": "059bb5ca",
   "metadata": {},
   "outputs": [],
   "source": [
    "df.info()"
   ]
  },
  {
   "cell_type": "code",
   "execution_count": null,
   "id": "6b60c739",
   "metadata": {},
   "outputs": [],
   "source": [
    "df.describe()"
   ]
  },
  {
   "cell_type": "code",
   "execution_count": null,
   "id": "fd948851",
   "metadata": {},
   "outputs": [],
   "source": [
    "df.target.unique()"
   ]
  },
  {
   "cell_type": "code",
   "execution_count": null,
   "id": "5f525831",
   "metadata": {
    "scrolled": true
   },
   "outputs": [],
   "source": [
    "def unique_specie(array):\n",
    "    unique = array.unique().tolist()\n",
    "    unique.sort()\n",
    "    return unique\n",
    "\n",
    "\n",
    "dropdown_specie = widgets.Dropdown(options = unique_specie(df.target))\n",
    "\n",
    "\n",
    "def specie_eventhandler(change):\n",
    "    with out:\n",
    "        clear_output()\n",
    "        display(df[df.target == change.new])\n",
    "    \n",
    "out = widgets.Output()\n",
    "dropdown_specie.observe(specie_eventhandler, names='value')\n",
    "display(dropdown_specie)\n",
    "display(out)"
   ]
  },
  {
   "cell_type": "code",
   "execution_count": null,
   "id": "9aeb2b76",
   "metadata": {},
   "outputs": [],
   "source": [
    "from ipywidgets import interact"
   ]
  },
  {
   "cell_type": "code",
   "execution_count": null,
   "id": "ee4d9a5d",
   "metadata": {},
   "outputs": [],
   "source": [
    "@interact\n",
    "def show_articles_more_than(column=['sepal length (cm)', \n",
    "                                    'sepal width (cm)',\n",
    "                                    'petal length (cm)',\n",
    "                                    'petal width (cm)'], \n",
    "                            x=(0,10,0.1)):\n",
    "    return df.loc[df[column] > x]"
   ]
  },
  {
   "cell_type": "markdown",
   "id": "de9c35f6",
   "metadata": {},
   "source": [
    "### Hide Raw code"
   ]
  },
  {
   "cell_type": "code",
   "execution_count": null,
   "id": "a6c8bdfd",
   "metadata": {},
   "outputs": [],
   "source": [
    "from IPython.display import HTML\n",
    "\n",
    "\n",
    "HTML('''<script>\n",
    "code_show=true; \n",
    "function code_toggle() {\n",
    " if (code_show){\n",
    " $('div.input').hide();\n",
    " } else {\n",
    " $('div.input').show();\n",
    " }\n",
    " code_show = !code_show\n",
    "} \n",
    "$( document ).ready(code_toggle);\n",
    "</script>\n",
    "<form action=\"javascript:code_toggle()\"><input type=\"submit\" value=\"Click here to toggle on/off the raw code.\"></form>''')"
   ]
  },
  {
   "cell_type": "markdown",
   "id": "5cb0b0cb",
   "metadata": {},
   "source": [
    "#### Source\n",
    "\n",
    " - https://ipywidgets.readthedocs.io/en/stable/examples/Widget%20List.html\n",
    " - https://towardsdatascience.com/bring-your-jupyter-notebook-to-life-with-interactive-widgets-bc12e03f0916\n",
    " - https://github.com/WillKoehrsen/Data-Analysis/blob/master/widgets/Widgets-Overview.ipynb"
   ]
  },
  {
   "cell_type": "code",
   "execution_count": null,
   "id": "c02e3959",
   "metadata": {},
   "outputs": [],
   "source": []
  }
 ],
 "metadata": {
  "kernelspec": {
   "display_name": "Python 3 (ipykernel)",
   "language": "python",
   "name": "python3"
  },
  "language_info": {
   "codemirror_mode": {
    "name": "ipython",
    "version": 3
   },
   "file_extension": ".py",
   "mimetype": "text/x-python",
   "name": "python",
   "nbconvert_exporter": "python",
   "pygments_lexer": "ipython3",
   "version": "3.8.13"
  }
 },
 "nbformat": 4,
 "nbformat_minor": 5
}
